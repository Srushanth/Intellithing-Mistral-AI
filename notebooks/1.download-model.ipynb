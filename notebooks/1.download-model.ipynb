{
 "cells": [
  {
   "cell_type": "code",
   "execution_count": 1,
   "metadata": {},
   "outputs": [],
   "source": [
    "import requests"
   ]
  },
  {
   "cell_type": "code",
   "execution_count": 2,
   "metadata": {},
   "outputs": [],
   "source": [
    "urls = {\n",
    "    \".gitattributes\": \"https://huggingface.co/mistralai/Mistral-7B-Instruct-v0.2/resolve/main/.gitattributes?download=true\", \n",
    "    \"README.md\": \"https://huggingface.co/mistralai/Mistral-7B-Instruct-v0.2/resolve/main/README.md?download=true\", \n",
    "    \"config.json\": \"https://huggingface.co/mistralai/Mistral-7B-Instruct-v0.2/resolve/main/config.json?download=true\", \n",
    "    \"generation_config.json\": \"https://huggingface.co/mistralai/Mistral-7B-Instruct-v0.2/resolve/main/generation_config.json?download=true\", \n",
    "    \"model-00001-of-00003.safetensors\": \"https://huggingface.co/mistralai/Mistral-7B-Instruct-v0.2/resolve/main/model-00001-of-00003.safetensors?download=true\", \n",
    "    \"model-00002-of-00003.safetensors\": \"https://huggingface.co/mistralai/Mistral-7B-Instruct-v0.2/resolve/main/model-00002-of-00003.safetensors?download=true\", \n",
    "    \"model-00003-of-00003.safetensors\": \"https://huggingface.co/mistralai/Mistral-7B-Instruct-v0.2/resolve/main/model-00003-of-00003.safetensors?download=true\", \n",
    "    \"model.safetensors.index.json\": \"https://huggingface.co/mistralai/Mistral-7B-Instruct-v0.2/resolve/main/model.safetensors.index.json?download=true\", \n",
    "    \"pytorch_model-00001-of-00003.bin\": \"https://huggingface.co/mistralai/Mistral-7B-Instruct-v0.2/resolve/main/pytorch_model-00001-of-00003.bin?download=true\", \n",
    "    \"pytorch_model-00002-of-00003.bin\": \"https://huggingface.co/mistralai/Mistral-7B-Instruct-v0.2/resolve/main/pytorch_model-00002-of-00003.bin?download=true\", \n",
    "    \"pytorch_model-00003-of-00003.bin\": \"https://huggingface.co/mistralai/Mistral-7B-Instruct-v0.2/resolve/main/pytorch_model-00003-of-00003.bin?download=true\", \n",
    "    \"pytorch_model.bin.index.json\": \"https://huggingface.co/mistralai/Mistral-7B-Instruct-v0.2/resolve/main/pytorch_model.bin.index.json?download=true\", \n",
    "    \"special_tokens_map.json\": \"https://huggingface.co/mistralai/Mistral-7B-Instruct-v0.2/resolve/main/special_tokens_map.json?download=true\", \n",
    "    \"tokenizer.json\": \"https://huggingface.co/mistralai/Mistral-7B-Instruct-v0.2/resolve/main/tokenizer.json?download=true\", \n",
    "    \"tokenizer.model\": \"https://huggingface.co/mistralai/Mistral-7B-Instruct-v0.2/resolve/main/tokenizer.model?download=true\", \n",
    "    \"tokenizer_config.json\": \"https://huggingface.co/mistralai/Mistral-7B-Instruct-v0.2/resolve/main/tokenizer_config.json?download=true\"\n",
    "}"
   ]
  },
  {
   "cell_type": "code",
   "execution_count": 3,
   "metadata": {},
   "outputs": [
    {
     "name": "stdout",
     "output_type": "stream",
     "text": [
      "****************************************\n",
      "True\n",
      "200\n",
      "https://huggingface.co/mistralai/Mistral-7B-Instruct-v0.2/resolve/main/pytorch_model-00001-of-00003.bin?download=true\n",
      "****************************************\n",
      "True\n",
      "200\n",
      "https://huggingface.co/mistralai/Mistral-7B-Instruct-v0.2/resolve/main/pytorch_model-00002-of-00003.bin?download=true\n",
      "****************************************\n",
      "True\n",
      "200\n",
      "https://huggingface.co/mistralai/Mistral-7B-Instruct-v0.2/resolve/main/pytorch_model-00003-of-00003.bin?download=true\n",
      "****************************************\n",
      "True\n",
      "200\n",
      "https://huggingface.co/mistralai/Mistral-7B-Instruct-v0.2/resolve/main/pytorch_model.bin.index.json?download=true\n",
      "****************************************\n",
      "True\n",
      "200\n",
      "https://huggingface.co/mistralai/Mistral-7B-Instruct-v0.2/resolve/main/special_tokens_map.json?download=true\n",
      "****************************************\n",
      "True\n",
      "200\n",
      "https://huggingface.co/mistralai/Mistral-7B-Instruct-v0.2/resolve/main/tokenizer.json?download=true\n",
      "****************************************\n",
      "True\n",
      "200\n",
      "https://huggingface.co/mistralai/Mistral-7B-Instruct-v0.2/resolve/main/tokenizer.model?download=true\n",
      "****************************************\n",
      "True\n",
      "200\n",
      "https://huggingface.co/mistralai/Mistral-7B-Instruct-v0.2/resolve/main/tokenizer_config.json?download=true\n"
     ]
    }
   ],
   "source": [
    "for name, url in urls.items():\n",
    "  response = requests.get(url)\n",
    "  print(\"*\"*40)\n",
    "  print(response.ok, response.status_code, url, sep=\"\\n\")\n",
    "  if response.ok and response.status_code == 200:\n",
    "    with open(f\"../model/{name}\", mode=\"wb\") as file:\n",
    "      file.write(response.content)\n",
    "  del response"
   ]
  },
  {
   "cell_type": "code",
   "execution_count": 4,
   "metadata": {},
   "outputs": [
    {
     "data": {
      "application/vnd.jupyter.widget-view+json": {
       "model_id": "03295e756a1d44f1a20438cc9c0db1a7",
       "version_major": 2,
       "version_minor": 0
      },
      "text/plain": [
       "Loading checkpoint shards:   0%|          | 0/3 [00:00<?, ?it/s]"
      ]
     },
     "metadata": {},
     "output_type": "display_data"
    },
    {
     "name": "stderr",
     "output_type": "stream",
     "text": [
      "The attention mask and the pad token id were not set. As a consequence, you may observe unexpected behavior. Please pass your input's `attention_mask` to obtain reliable results.\n",
      "Setting `pad_token_id` to `eos_token_id`:2 for open-end generation.\n"
     ]
    }
   ],
   "source": [
    "# Sample 1\n",
    "\n",
    "from transformers import AutoTokenizer, MistralForCausalLM\n",
    "\n",
    "model = MistralForCausalLM.from_pretrained(\"../model\")\n",
    "tokenizer = AutoTokenizer.from_pretrained(\"../model\")\n",
    "\n",
    "prompt = \"Hey, are you conscious? Can you talk to me?\"\n",
    "inputs = tokenizer(prompt, return_tensors=\"pt\")\n",
    "\n",
    "# Generate\n",
    "generate_ids = model.generate(inputs.input_ids, max_length=30)\n",
    "tokenizer.batch_decode(generate_ids, skip_special_tokens=True, clean_up_tokenization_spaces=False)[0]"
   ]
  },
  {
   "cell_type": "code",
   "execution_count": null,
   "metadata": {},
   "outputs": [],
   "source": [
    "# Sample 2\n",
    "\n",
    "from transformers import AutoModelForCausalLM, AutoTokenizer\n",
    "\n",
    "device = \"cpu\" # the device to load the model onto # cuda # cpu\n",
    "\n",
    "model = AutoModelForCausalLM.from_pretrained(\"../model\")\n",
    "tokenizer = AutoTokenizer.from_pretrained(\"../model\")\n",
    "\n",
    "messages = [\n",
    "    {\"role\": \"user\", \"content\": \"What is your favourite condiment?\"},\n",
    "    {\"role\": \"assistant\", \"content\": \"Well, I'm quite partial to a good squeeze of fresh lemon juice. It adds just the right amount of zesty flavour to whatever I'm cooking up in the kitchen!\"},\n",
    "    {\"role\": \"user\", \"content\": \"Do you have mayonnaise recipes?\"}\n",
    "]\n",
    "\n",
    "encodeds = tokenizer.apply_chat_template(messages, return_tensors=\"pt\")\n",
    "\n",
    "model_inputs = encodeds.to(device)\n",
    "model.to(device)\n",
    "\n",
    "generated_ids = model.generate(model_inputs, max_new_tokens=1000, do_sample=True)\n",
    "decoded = tokenizer.batch_decode(generated_ids)\n",
    "print(decoded[0])"
   ]
  },
  {
   "cell_type": "code",
   "execution_count": null,
   "metadata": {},
   "outputs": [],
   "source": []
  }
 ],
 "metadata": {
  "kernelspec": {
   "display_name": "Python 3",
   "language": "python",
   "name": "python3"
  },
  "language_info": {
   "codemirror_mode": {
    "name": "ipython",
    "version": 3
   },
   "file_extension": ".py",
   "mimetype": "text/x-python",
   "name": "python",
   "nbconvert_exporter": "python",
   "pygments_lexer": "ipython3",
   "version": "3.11.0"
  }
 },
 "nbformat": 4,
 "nbformat_minor": 2
}
